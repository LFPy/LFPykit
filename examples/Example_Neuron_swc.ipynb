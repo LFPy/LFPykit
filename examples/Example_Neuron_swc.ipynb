{
 "cells": [
  {
   "cell_type": "markdown",
   "id": "e44398a4-3821-4947-a536-88a346aca9f0",
   "metadata": {},
   "source": [
    "# Example: NEURON plus .swc morphology file\n",
    "\n",
    "Example utilizing the **`LFPykit`** module for predictions of extracellular potentials using \n",
    "the line source approximation implementation `LineSourcePotential` with a passive neuron model set up in the NEURON simulation environment (https://neuron.yale.edu/neuron/, https://github.com/neuronsimulator/nrn). \n",
    "\n",
    "The neuron receives sinusoid synaptic current input in one arbitrary chosen segment. \n",
    "Its morphology is defined in the file `single_cell.swc`. \n",
    "\n",
    "The example produces comparable output as the `Example_Arbor_swc.ipynb` and `Example_LFPy_swc.ipynb` notebooks. \n",
    "\n",
    "This example showcase the use of `lfpykit.special.CellGeometryNeuron` and `lfpykit.special.LineSourcePotential`, \n",
    "two modified classes inherited from `lfpykit.CellGeometry` and `lfpykit.LineSourcePotential`, respectively. \n",
    "The modifications allow using the full geometry detail from the `.swc` morphology file for computing the extracellular potential."
   ]
  },
  {
   "cell_type": "code",
   "execution_count": 1,
   "id": "0bf943a6-8519-430a-b0ec-f3f7418f9b74",
   "metadata": {},
   "outputs": [],
   "source": [
    "%matplotlib inline"
   ]
  },
  {
   "cell_type": "code",
   "execution_count": 2,
   "id": "8c898bbe-6c1d-4d3e-b264-a07e67202b0d",
   "metadata": {},
   "outputs": [],
   "source": [
    "## NEURON may be installed using pip:\n",
    "#!pip install neuron"
   ]
  },
  {
   "cell_type": "code",
   "execution_count": 3,
   "id": "74719f8f-94fa-4388-b16e-cfd3e4d0ce3f",
   "metadata": {},
   "outputs": [],
   "source": [
    "## if running on mybinder or similar, uncomment and run the following to install LFPykit. \n",
    "## Then restart the kernel.\n",
    "#!pip install .."
   ]
  },
  {
   "cell_type": "code",
   "execution_count": 4,
   "id": "1cb7ba0f-f29f-4665-a6ba-fb43197f3b80",
   "metadata": {},
   "outputs": [],
   "source": [
    "## compile sinsyn.mod NMODL file\n",
    "#!nrnivmodl"
   ]
  },
  {
   "cell_type": "code",
   "execution_count": 5,
   "id": "32717e18-de49-4a70-9f70-4f6dd21b4e06",
   "metadata": {},
   "outputs": [],
   "source": [
    "# import modules\n",
    "import numpy as np\n",
    "import neuron\n",
    "import lfpykit\n",
    "import matplotlib.pyplot as plt\n",
    "from matplotlib.gridspec import GridSpec\n",
    "from matplotlib.collections import PolyCollection\n",
    "import pandas as pd"
   ]
  },
  {
   "cell_type": "code",
   "execution_count": 6,
   "id": "dbe97073-58f4-4320-9391-9f7b79dfb1fc",
   "metadata": {},
   "outputs": [
    {
     "data": {
      "text/plain": [
       "1.0"
      ]
     },
     "execution_count": 6,
     "metadata": {},
     "output_type": "execute_result"
    }
   ],
   "source": [
    "# load some hoc routines for reading morphology files:\n",
    "neuron.h.load_file(\"stdlib.hoc\")\n",
    "neuron.h.load_file(\"import3d.hoc\")\n",
    "neuron.h.load_file(\"stdrun.hoc\")"
   ]
  },
  {
   "cell_type": "code",
   "execution_count": 7,
   "id": "1b240bb6-48c2-4e53-ae5a-209061355863",
   "metadata": {},
   "outputs": [],
   "source": [
    "class CellSimulation(object):\n",
    "    '''Passive cell set up in NEURON from .swc file format + simulation control'''\n",
    "    def __init__(self):\n",
    "        self.load_morphology()\n",
    "        self.set_biophys()\n",
    "        self.stimlist = []\n",
    "        self.set_stim()\n",
    "        \n",
    "    def load_morphology(self):\n",
    "        cell = neuron.h.Import3d_SWC_read()\n",
    "        cell.input(\"single_cell.swc\")  # morphology file\n",
    "        i3d = neuron.h.Import3d_GUI(cell, False)\n",
    "        i3d.instantiate(self)\n",
    "    \n",
    "    def set_biophys(self):\n",
    "        for sec in self.all:\n",
    "            sec.cm = 1.  # membrane capacitance (uF/cm2)\n",
    "            sec.Ra = 10000.  # cytoplasmic resistivity (ohm cm)\n",
    "            sec.insert('pas')\n",
    "            sec.g_pas = 0.0001  # leak conductivity (S/cm2)\n",
    "            sec.e_pas = -65.  # leak reversal potential\n",
    "            if 'soma' not in sec.name():\n",
    "                sec.nseg = 3  # numbers of segments (compartments) per section\n",
    "    \n",
    "    def set_stim(self):\n",
    "        '''create sinusoid \"synapse\" current'''\n",
    "        s = neuron.h.SinSyn(1/6, sec=self.apic[1])\n",
    "        s.delay = 0  # ms\n",
    "        s.freq = 100.  # Hz\n",
    "        s.phase = np.pi  # rad\n",
    "        s.dur = 1E8  # ms\n",
    "        self.stimlist.append(s)\n",
    "\n",
    "    def create_recorders(self):\n",
    "        self.create_time_recorder()\n",
    "        self.create_voltage_recorders()\n",
    "        self.create_current_recorders()\n",
    "\n",
    "    def create_time_recorder(self):\n",
    "        self.time = neuron.h.Vector()\n",
    "        self.time.record(neuron.h._ref_t)\n",
    "\n",
    "    def create_voltage_recorders(self):\n",
    "        self.V_m = []\n",
    "        for sec in self.all:\n",
    "            for seg in sec:\n",
    "                self.V_m.append(neuron.h.Vector())\n",
    "                self.V_m[-1].record(seg._ref_v)\n",
    "\n",
    "    def create_current_recorders(self):\n",
    "        self.I_m = []\n",
    "        for sec in self.all:\n",
    "            for seg in sec:\n",
    "                self.I_m.append(neuron.h.Vector())\n",
    "                self.I_m[-1].record(seg._ref_i_membrane_)\n",
    "\n",
    "    def _initialize(self, v_init, dt):\n",
    "        cvode = neuron.h.CVode()\n",
    "        cvode.use_fast_imem(1)\n",
    "        cvode.active(0)\n",
    "        neuron.h.dt = dt\n",
    "        \n",
    "        self.create_recorders()\n",
    "\n",
    "        neuron.h.finitialize(v_init)\n",
    "        if cvode.active():\n",
    "            cvode.re_init()\n",
    "        else:\n",
    "            neuron.h.fcurrent()\n",
    "        neuron.h.frecord_init()\n",
    "\n",
    "    def _integrate(self, tstop):\n",
    "        neuron.h.continuerun(tstop)\n",
    "\n",
    "    def _finalize(self):\n",
    "        self.time = np.array(self.time)\n",
    "        self.I_m = np.array(self.I_m)\n",
    "        self.V_m = np.array(self.V_m)\n",
    "    \n",
    "    def simulate(self, v_init=-65, tstop=500, dt=0.1):\n",
    "        '''\n",
    "        Parameters\n",
    "        ----------\n",
    "        v_init: float\n",
    "            initial voltage (mV)\n",
    "        tstop: float\n",
    "            simulation duration (ms)\n",
    "        dt: float\n",
    "            temporal step size (ms)\n",
    "        '''\n",
    "        self._initialize(v_init, dt)\n",
    "        self._integrate(tstop)\n",
    "        self._finalize()\n",
    "        "
   ]
  },
  {
   "cell_type": "code",
   "execution_count": 8,
   "id": "cc38538f-60ae-42cc-b54f-288ef0c84df7",
   "metadata": {},
   "outputs": [],
   "source": [
    "# instantiate cell and run simulation\n",
    "cell = CellSimulation()\n",
    "cell.simulate()"
   ]
  },
  {
   "cell_type": "markdown",
   "id": "592fa242-ebfe-472b-81d6-c9a3badf7a6f",
   "metadata": {},
   "source": [
    "## compute extracellular potentials\n",
    "Combining the use of `lfpykit.special.CellGeometryNeuron` to represent the coordinates of `pt3d`-points for each compartment and \n",
    "`lfpykit.special.LineSourcePotential` compute the extracellular potential"
   ]
  },
  {
   "cell_type": "code",
   "execution_count": 9,
   "id": "307cdefe-0c31-4817-b735-da0ae67738fe",
   "metadata": {},
   "outputs": [],
   "source": [
    "# create ``CellGeometryLFPyPt3d`` instance\n",
    "cell_geometry = lfpykit.special.CellGeometryNeuron(cell)"
   ]
  },
  {
   "cell_type": "code",
   "execution_count": 10,
   "id": "b1033964-349b-4b82-9d2a-f30cafadf6ab",
   "metadata": {},
   "outputs": [],
   "source": [
    "# locations where extracellular potential is predicted \n",
    "dx = 1\n",
    "dz = 1\n",
    "axis = np.round([cell_geometry.x.min()-10, cell_geometry.x.max()+10, cell_geometry.y.min()-10, cell_geometry.y.max()+10])\n",
    "# axis = np.round(axis)\n",
    "X, Y = np.meshgrid(np.linspace(axis[0], axis[1], int(np.diff(axis[:2]) // dx) + 1), \n",
    "                   np.linspace(axis[2], axis[3], int(np.diff(axis[2:]) // dz) + 1))\n",
    "Z = np.zeros_like(X)\n",
    "\n",
    "\n",
    "# LineSourcePotential object, get mapping\n",
    "lsp = lfpykit.special.LineSourcePotential(cell=cell_geometry,                                   \n",
    "                                   x=X.flatten(), \n",
    "                                   y=Y.flatten(), \n",
    "                                   z=Z.flatten())\n",
    "M = lsp.get_transformation_matrix()\n",
    "\n",
    "# Extracellular potential in x,z-plane coordinates   \n",
    "V_e = M @ cell.I_m"
   ]
  },
  {
   "cell_type": "markdown",
   "id": "69ce4d1a-2a96-46f5-8c0a-fec97b7f83fe",
   "metadata": {},
   "source": [
    "## Plotting\n",
    "Plot the morphology and extracellular potential prediction"
   ]
  },
  {
   "cell_type": "code",
   "execution_count": 11,
   "id": "86be136a-36d1-4203-9c80-12d1070ecdf7",
   "metadata": {},
   "outputs": [],
   "source": [
    "def colorbar(fig, ax, im,\n",
    "             width=0.01,\n",
    "             height=1.0,\n",
    "             hoffset=0.01,\n",
    "             voffset=0.0,\n",
    "             orientation='vertical'):\n",
    "    '''\n",
    "    draw matplotlib colorbar without resizing the axes object\n",
    "    '''\n",
    "    rect = np.array(ax.get_position().bounds)\n",
    "    rect = np.array(ax.get_position().bounds)\n",
    "    caxrect = [0] * 4\n",
    "    caxrect[0] = rect[0] + rect[2] + hoffset * rect[2]\n",
    "    caxrect[1] = rect[1] + voffset * rect[3]\n",
    "    caxrect[2] = rect[2] * width\n",
    "    caxrect[3] = rect[3] * height\n",
    "    cax = fig.add_axes(caxrect)\n",
    "    cax.grid(False)\n",
    "    cb = fig.colorbar(im, cax=cax, orientation=orientation)\n",
    "    return cb"
   ]
  },
  {
   "cell_type": "code",
   "execution_count": 12,
   "id": "3437196e-ef11-4c69-966f-2f32576484f1",
   "metadata": {},
   "outputs": [],
   "source": [
    "def get_polycollection(cell_geometry, V_m, vlims=[-66, -64], cmap='viridis'):\n",
    "    '''\n",
    "    Parameters\n",
    "    ----------\n",
    "    cell_geometry: ``Pt3dCellGeometry`` like object\n",
    "    V_m: ndarray\n",
    "        membrane voltages at some time point\n",
    "    vlims: list\n",
    "        color limits\n",
    "    cmap: str\n",
    "        matplotlib colormap name\n",
    "\n",
    "    Returns\n",
    "    -------\n",
    "    PolyCollection\n",
    "    '''\n",
    "    norm = plt.Normalize(vmin=vlims[0], vmax=vlims[1], clip=True)\n",
    "    colors = [plt.get_cmap(cmap)(norm(v)) for v in V_m]\n",
    "    zips = []\n",
    "    for i in range(V_m.size):\n",
    "        inds = cell_geometry._compartment_index == i\n",
    "        zips.append(create_polygon(cell_geometry.x[inds, ].flatten(),\n",
    "                                   cell_geometry.y[inds, ].flatten(),\n",
    "                                   cell_geometry.d[inds, ].flatten()))\n",
    "    polycol = PolyCollection(zips,\n",
    "                             edgecolors=colors,\n",
    "                             facecolors=colors,\n",
    "                             linewidths=0.)\n",
    "    return polycol"
   ]
  },
  {
   "cell_type": "code",
   "execution_count": 13,
   "id": "399ebee1-1324-4e5d-baf5-4e88a80c2c4b",
   "metadata": {},
   "outputs": [],
   "source": [
    "def get_segment_outlines(cell_geometry):\n",
    "    '''\n",
    "    Parameters\n",
    "    ----------\n",
    "    cell_geometry: ``Pt3dCellGeometry`` object\n",
    "    cmap: str\n",
    "        matplotlib colormap name\n",
    "\n",
    "    Returns\n",
    "    -------\n",
    "    PolyCollection\n",
    "    '''\n",
    "    zips = []\n",
    "    for x_, y_, d_ in zip(cell_geometry.x, cell_geometry.y, cell_geometry.d):\n",
    "        zips.append(create_polygon(x_, y_, d_))\n",
    "    polycol = PolyCollection(zips,\n",
    "                             edgecolors='k',\n",
    "                             facecolors='none',\n",
    "                             linewidths=0.5)\n",
    "    return polycol"
   ]
  },
  {
   "cell_type": "code",
   "execution_count": 14,
   "id": "10d97302-966c-480e-a85c-90a8af901c80",
   "metadata": {},
   "outputs": [],
   "source": [
    "def create_polygon(x, y, d):\n",
    "    \"\"\"create an outline for each segment defined by 1D arrays `x`, `y`, `d`\n",
    "    in x,y-plane which can be drawn using `plt.Polygon`\n",
    "    \n",
    "    Parameters\n",
    "    ----------\n",
    "    x: ndarray\n",
    "    y: ndarray\n",
    "    d: ndarray\n",
    "    \n",
    "    Returns\n",
    "    -------\n",
    "    x, y: nested list\n",
    "    \"\"\"\n",
    "    x_grad = np.gradient(x)\n",
    "    y_grad = np.gradient(y)\n",
    "    theta = np.arctan2(y_grad, x_grad)\n",
    "\n",
    "    xp = np.r_[(x + 0.5 * d * np.sin(theta)).ravel(), \n",
    "               (x - 0.5 * d * np.sin(theta)).ravel()[::-1]]\n",
    "    yp = np.r_[(y - 0.5 * d * np.cos(theta)).ravel(), \n",
    "               (y + 0.5 * d * np.cos(theta)).ravel()[::-1]]\n",
    "    \n",
    "    return list(zip(xp, yp))"
   ]
  },
  {
   "cell_type": "code",
   "execution_count": 15,
   "id": "33b372e5-f2bc-48f7-957c-e44095a63606",
   "metadata": {},
   "outputs": [],
   "source": [
    "def get_segment_outlines(cell_geometry):\n",
    "    '''\n",
    "    Parameters\n",
    "    ----------\n",
    "    cell_geometry: ``ArborCellGeometry`` object\n",
    "    cmap: str\n",
    "        matplotlib colormap name\n",
    "\n",
    "    Returns\n",
    "    -------\n",
    "    PolyCollection\n",
    "    '''\n",
    "    zips = []\n",
    "    for x_, y_, d_ in zip(cell_geometry.x, cell_geometry.y, cell_geometry.d):\n",
    "        zips.append(create_polygon(x_, y_, d_))\n",
    "    polycol = PolyCollection(zips,\n",
    "                             edgecolors='k',\n",
    "                             facecolors='none',\n",
    "                             linewidths=0.5)\n",
    "    return polycol"
   ]
  },
  {
   "cell_type": "code",
   "execution_count": 16,
   "id": "efc724d8-44fa-4663-9191-663586c58837",
   "metadata": {},
   "outputs": [
    {
     "data": {
      "text/plain": [
       "Text(0, 0.5, '$y$ ($\\\\mu$m)')"
      ]
     },
     "execution_count": 16,
     "metadata": {},
     "output_type": "execute_result"
    },
    {
     "data": {
      "image/png": "[encoded data removed]",
      "text/plain": [
       "<Figure size 1600x600 with 3 Axes>"
      ]
     },
     "metadata": {},
     "output_type": "display_data"
    }
   ],
   "source": [
    "# show predictions at the last time point of simulation\n",
    "time_index = -1\n",
    "\n",
    "# use seaborn style\n",
    "plt.style.use('seaborn')\n",
    "plt.rcParams['image.cmap'] = 'viridis'\n",
    "\n",
    "# create figure and axis\n",
    "fig, ax = plt.subplots(1, 1, figsize=(16, 6), dpi=100)\n",
    "\n",
    "# plot contours of V_e\n",
    "lim = float(f'{abs(V_e).max() / 3:.1e}')\n",
    "levels = np.linspace(-lim, lim, 25)\n",
    "im_V_e = ax.contourf(X, Y, V_e[:, time_index].reshape(X.shape),\n",
    "                     cmap='RdBu',\n",
    "                     levels=levels,\n",
    "                     extend='both')\n",
    "\n",
    "# V_e colorbar:\n",
    "cb = colorbar(fig, ax, im_V_e, height=0.45, voffset=0.55)\n",
    "cb.set_label('$V_e$ (mV)')\n",
    "\n",
    "# add outline of each CV\n",
    "vlims = [-66., -64.]\n",
    "polycol = get_polycollection(cell_geometry, cell.V_m[:, time_index], vlims=vlims)\n",
    "im_V_m = ax.add_collection(polycol)\n",
    "\n",
    "cb2 = colorbar(fig, ax, im_V_m, height=0.45)\n",
    "cb2.set_ticks([0, 0.5, 1])\n",
    "cb2.set_ticklabels([-66, -65, -64])\n",
    "cb2.set_label(r'$V_m$ (mV)')\n",
    "\n",
    "\n",
    "# draw segment outlines\n",
    "ax.add_collection(get_segment_outlines(cell_geometry))\n",
    "\n",
    "# synapse location\n",
    "s = cell.stimlist[0]\n",
    "sec = s.get_segment().sec\n",
    "xp = [neuron.h.arc3d(i, sec=sec) / neuron.h.arc3d(sec.n3d()-1, sec=sec) for i in range(sec.n3d())]\n",
    "s_x = np.interp(s.get_loc(), xp, [neuron.h.x3d(i, sec=sec) for i in range(sec.n3d())])\n",
    "s_y = np.interp(s.get_loc(), xp, [neuron.h.y3d(i, sec=sec) for i in range(sec.n3d())])\n",
    "ax.plot(s_x, s_y, 'ko', ms=10, label='stimulus')\n",
    "\n",
    "ax.legend()\n",
    "\n",
    "ax.set_xlim(X.min(), X.max())\n",
    "ax.set_ylim(Y.min(), Y.max())\n",
    "ax.set_xlabel(r'$x$ ($\\mu$m)')\n",
    "ax.set_ylabel(r'$y$ ($\\mu$m)')"
   ]
  },
  {
   "cell_type": "markdown",
   "id": "1591eab3-72c8-4837-ab84-9ecbfc2eaed9",
   "metadata": {},
   "source": [
    "## Notes on output:\n",
    "The spatial discretization is here deliberately coarse with only `nseg=3` per section.\n",
    "The soma consist of one section.\n",
    "Hence the dendritic section receiving input about 1/6 of the way from its root \n",
    "is treated as 3 separate line sources with homogeneous current density per length unit each, even if \n",
    "the diameter and direction varies with position due to the fact \n",
    "that each compartment may  be defined by multiple pt3d points. \n",
    "\n",
    "The parameter `nseg=3` above can be changed via to affect the number of compartments per section. "
   ]
  },
  {
   "cell_type": "code",
   "execution_count": null,
   "id": "646b9f4a-2a33-40eb-8572-ec213b799562",
   "metadata": {},
   "outputs": [],
   "source": []
  }
 ],
 "metadata": {
  "kernelspec": {
   "display_name": "Python 3 (ipykernel)",
   "language": "python",
   "name": "python3"
  },
  "language_info": {
   "codemirror_mode": {
    "name": "ipython",
    "version": 3
   },
   "file_extension": ".py",
   "mimetype": "text/x-python",
   "name": "python",
   "nbconvert_exporter": "python",
   "pygments_lexer": "ipython3",
   "version": "3.10.2"
  }
 },
 "nbformat": 4,
 "nbformat_minor": 5
}
