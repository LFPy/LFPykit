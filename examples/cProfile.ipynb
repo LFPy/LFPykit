{
 "cells": [
  {
   "cell_type": "code",
   "execution_count": null,
   "id": "638c82eb-3757-4fe9-b1e8-0da9b736fa2d",
   "metadata": {},
   "outputs": [],
   "source": [
    "%matplotlib inline"
   ]
  },
  {
   "cell_type": "code",
   "execution_count": null,
   "id": "6ac6cc3c-e07c-47da-a97f-a087621390ef",
   "metadata": {},
   "outputs": [],
   "source": [
    "import LFPy\n",
    "import lfpykit\n",
    "import numpy as np\n",
    "import matplotlib.pyplot as plt"
   ]
  },
  {
   "cell_type": "code",
   "execution_count": null,
   "id": "15b63f94-ebcd-42bf-8e80-9761def92965",
   "metadata": {},
   "outputs": [],
   "source": [
    "# LFPy.Cell parameters\n",
    "cellParameters = {\n",
    "    'morphology': 'L5_Mainen96_LFPy.hoc',  # morphology file\n",
    "    'v_init': -65,                         # initial voltage\n",
    "    'cm': 1.0,                             # membrane capacitance\n",
    "    'Ra': 150,                             # axial resistivity\n",
    "    'passive': True,                       # insert passive channels\n",
    "    'passive_parameters': {\"g_pas\": 1. / 3E4,\n",
    "                           \"e_pas\": -65},  # passive params\n",
    "    'dt': 2**-4,                           # simulation time res\n",
    "    'nsegs_method': 'lambda_f',    # discretization rule\n",
    "    'lambda_f': 1000               # frequency (Hz)\n",
    "}\n",
    "\n",
    "# create LFPy.Cell instance\n",
    "cell = LFPy.Cell(**cellParameters)\n",
    "cell.set_rotation(x=4.98919, y=-4.33261, z=0.)\n",
    "\n",
    "print(f'total number of segments: {cell.totnsegs}')\n",
    "\n",
    "# parameters for line source potential\n",
    "el_params = dict(\n",
    "    x = np.linspace(0, 1000, 1001),\n",
    "    y = np.zeros(1001),\n",
    "    z = np.zeros(1001),\n",
    "    sigma = 0.3\n",
    ")\n",
    "\n",
    "cell.simulate(rec_imem=True)"
   ]
  },
  {
   "cell_type": "code",
   "execution_count": null,
   "id": "3b8e2ec8-c8a4-48a6-81ef-b7dcee36c836",
   "metadata": {},
   "outputs": [],
   "source": [
    "# create line-source potential predictor\n",
    "lsp = lfpykit.LineSourcePotential(cell, **el_params)"
   ]
  },
  {
   "cell_type": "code",
   "execution_count": null,
   "id": "79185fd5-9485-425c-8727-146c793126d9",
   "metadata": {},
   "outputs": [],
   "source": [
    "%%prun -s cumulative -q -l 20 -T prun0\n",
    "for i in range(100):\n",
    "    lsp.get_transformation_matrix()"
   ]
  },
  {
   "cell_type": "code",
   "execution_count": null,
   "id": "9fcd45b6-5349-4718-be60-ab8befe8dab0",
   "metadata": {},
   "outputs": [],
   "source": [
    "print(open('prun0', 'r').read())"
   ]
  },
  {
   "cell_type": "code",
   "execution_count": null,
   "id": "045d95d5-f58a-4ee3-a591-ea2bf241269e",
   "metadata": {},
   "outputs": [],
   "source": [
    "# create point-source potential predictor\n",
    "psp = lfpykit.LineSourcePotential(cell, **el_params)"
   ]
  },
  {
   "cell_type": "code",
   "execution_count": null,
   "id": "a6d382dd-d4c6-4bab-9147-3cd5b189a700",
   "metadata": {},
   "outputs": [],
   "source": [
    "%%prun -s cumulative -q -l 20 -T prun1\n",
    "for i in range(100):\n",
    "    psp.get_transformation_matrix()"
   ]
  },
  {
   "cell_type": "code",
   "execution_count": null,
   "id": "2531c6fd-935f-4907-89a9-aef29e73f277",
   "metadata": {},
   "outputs": [],
   "source": [
    "print(open('prun1', 'r').read())"
   ]
  },
  {
   "cell_type": "code",
   "execution_count": null,
   "id": "90639f55-dc4f-431a-891f-d91e1258ef12",
   "metadata": {},
   "outputs": [],
   "source": []
  }
 ],
 "metadata": {
  "kernelspec": {
   "display_name": "Python 3 (ipykernel)",
   "language": "python",
   "name": "python3"
  },
  "language_info": {
   "codemirror_mode": {
    "name": "ipython",
    "version": 3
   },
   "file_extension": ".py",
   "mimetype": "text/x-python",
   "name": "python",
   "nbconvert_exporter": "python",
   "pygments_lexer": "ipython3",
   "version": "3.9.10"
  }
 },
 "nbformat": 4,
 "nbformat_minor": 5
}
