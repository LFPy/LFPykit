{
 "cells": [
  {
   "cell_type": "code",
   "execution_count": 1,
   "id": "638c82eb-3757-4fe9-b1e8-0da9b736fa2d",
   "metadata": {},
   "outputs": [],
   "source": [
    "%matplotlib inline"
   ]
  },
  {
   "cell_type": "code",
   "execution_count": 2,
   "id": "6ac6cc3c-e07c-47da-a97f-a087621390ef",
   "metadata": {},
   "outputs": [],
   "source": [
    "import LFPy\n",
    "import lfpykit\n",
    "import numpy as np"
   ]
  },
  {
   "cell_type": "code",
   "execution_count": 3,
   "id": "15b63f94-ebcd-42bf-8e80-9761def92965",
   "metadata": {},
   "outputs": [
    {
     "name": "stdout",
     "output_type": "stream",
     "text": [
      "total number of segments: 3078\n"
     ]
    }
   ],
   "source": [
    "# LFPy.Cell parameters\n",
    "cellParameters = {\n",
    "    'morphology': 'L5_Mainen96_LFPy.hoc',  # morphology file\n",
    "    'v_init': -65,                         # initial voltage\n",
    "    'cm': 1.0,                             # membrane capacitance\n",
    "    'Ra': 150,                             # axial resistivity\n",
    "    'passive': True,                       # insert passive channels\n",
    "    'passive_parameters': {\"g_pas\": 1. / 3E4,\n",
    "                           \"e_pas\": -65},  # passive params\n",
    "    'dt': 2**-4,                           # simulation time res\n",
    "    'nsegs_method': 'lambda_f',    # discretization rule\n",
    "    'lambda_f': 1000               # frequency (Hz)\n",
    "}\n",
    "\n",
    "# create LFPy.Cell instance\n",
    "cell = LFPy.Cell(**cellParameters)\n",
    "cell.set_rotation(x=4.98919, y=-4.33261, z=0.)\n",
    "\n",
    "print(f'total number of segments: {cell.totnsegs}')\n",
    "\n",
    "# parameters for line source potential\n",
    "el_params = dict(\n",
    "    x = np.linspace(0, 1000, 1001),\n",
    "    y = np.zeros(1001),\n",
    "    z = np.zeros(1001),\n",
    "    sigma = 0.3\n",
    ")\n",
    "\n",
    "# create line-source potential predictor\n",
    "lsp = lfpykit.LineSourcePotential(cell, **el_params)"
   ]
  },
  {
   "cell_type": "code",
   "execution_count": 5,
   "id": "79185fd5-9485-425c-8727-146c793126d9",
   "metadata": {},
   "outputs": [
    {
     "name": "stdout",
     "output_type": "stream",
     "text": [
      "         551318 function calls (546188 primitive calls) in 6.492 seconds\n",
      "\n",
      "   Ordered by: cumulative time\n",
      "   List reduced from 1338 to 20 due to restriction <20>\n",
      "\n",
      "   ncalls  tottime  percall  cumtime  percall filename:lineno(function)\n",
      "     66/1    0.000    0.000    6.502    6.502 {built-in method builtins.exec}\n",
      "      100    0.221    0.002    6.492    0.065 models.py:437(get_transformation_matrix)\n",
      "   100100    0.275    0.000    6.270    0.000 lfpcalc.py:346(calc_lfp_linesource)\n",
      "   100100    5.865    0.000    5.878    0.000 lfpcalc.py:377(_calc_lfp_linesource)\n",
      "        1    0.000    0.000    0.117    0.117 dispatcher.py:388(_compile_for_args)\n",
      "        1    0.000    0.000    0.077    0.077 dispatcher.py:915(compile)\n",
      "        1    0.000    0.000    0.077    0.077 caching.py:639(load_overload)\n",
      "    171/1    0.000    0.000    0.067    0.067 base.py:269(refresh)\n",
      "2750/2572    0.001    0.000    0.048    0.000 <frozen importlib._bootstrap>:1033(_handle_fromlist)\n",
      "    85/50    0.000    0.000    0.046    0.001 <frozen importlib._bootstrap>:1002(_find_and_load)\n",
      "    69/34    0.000    0.000    0.046    0.001 <frozen importlib._bootstrap>:967(_find_and_load_unlocked)\n",
      "   118/34    0.000    0.000    0.046    0.001 <frozen importlib._bootstrap>:220(_call_with_frames_removed)\n",
      "    68/34    0.000    0.000    0.045    0.001 <frozen importlib._bootstrap>:659(_load_unlocked)\n",
      "    65/34    0.000    0.000    0.044    0.001 <frozen importlib._bootstrap_external>:844(exec_module)\n",
      "      171    0.001    0.000    0.040    0.000 cpu.py:69(load_additional_registries)\n",
      "    47/31    0.000    0.000    0.040    0.001 {built-in method builtins.__import__}\n",
      "      172    0.000    0.000    0.040    0.000 entrypoints.py:10(init_all)\n",
      "        1    0.000    0.000    0.040    0.040 dispatcher.py:281(_compilation_chain_init_hook)\n",
      "        1    0.000    0.000    0.040    0.040 __init__.py:649(<genexpr>)\n",
      "      175    0.000    0.000    0.039    0.000 __init__.py:2856(get_entry_map)\n",
      " \n",
      "*** Profile printout saved to text file 'prun0'.\n"
     ]
    }
   ],
   "source": [
    "%%prun -s cumulative -q -l 20 -T prun0\n",
    "for i in range(100):\n",
    "    lsp.get_transformation_matrix()\n",
    "print(open('prun0', 'r').read())"
   ]
  },
  {
   "cell_type": "code",
   "execution_count": null,
   "id": "9c7909f1-c3a6-4f7b-bb6f-0053feb30f6a",
   "metadata": {},
   "outputs": [],
   "source": []
  }
 ],
 "metadata": {
  "kernelspec": {
   "display_name": "Python 3 (ipykernel)",
   "language": "python",
   "name": "python3"
  },
  "language_info": {
   "codemirror_mode": {
    "name": "ipython",
    "version": 3
   },
   "file_extension": ".py",
   "mimetype": "text/x-python",
   "name": "python",
   "nbconvert_exporter": "python",
   "pygments_lexer": "ipython3",
   "version": "3.9.10"
  }
 },
 "nbformat": 4,
 "nbformat_minor": 5
}
