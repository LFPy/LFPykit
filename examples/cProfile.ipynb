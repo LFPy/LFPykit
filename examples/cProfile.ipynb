{
 "cells": [
  {
   "cell_type": "code",
   "execution_count": 1,
   "id": "638c82eb-3757-4fe9-b1e8-0da9b736fa2d",
   "metadata": {},
   "outputs": [],
   "source": [
    "%matplotlib inline"
   ]
  },
  {
   "cell_type": "code",
   "execution_count": 2,
   "id": "6ac6cc3c-e07c-47da-a97f-a087621390ef",
   "metadata": {},
   "outputs": [],
   "source": [
    "import LFPy\n",
    "import lfpykit\n",
    "import numpy as np"
   ]
  },
  {
   "cell_type": "code",
   "execution_count": 3,
   "id": "15b63f94-ebcd-42bf-8e80-9761def92965",
   "metadata": {},
   "outputs": [
    {
     "name": "stdout",
     "output_type": "stream",
     "text": [
      "total number of segments: 3078\n"
     ]
    }
   ],
   "source": [
    "# LFPy.Cell parameters\n",
    "cellParameters = {\n",
    "    'morphology': 'L5_Mainen96_LFPy.hoc',  # morphology file\n",
    "    'v_init': -65,                         # initial voltage\n",
    "    'cm': 1.0,                             # membrane capacitance\n",
    "    'Ra': 150,                             # axial resistivity\n",
    "    'passive': True,                       # insert passive channels\n",
    "    'passive_parameters': {\"g_pas\": 1. / 3E4,\n",
    "                           \"e_pas\": -65},  # passive params\n",
    "    'dt': 2**-4,                           # simulation time res\n",
    "    'nsegs_method': 'lambda_f',    # discretization rule\n",
    "    'lambda_f': 1000               # frequency (Hz)\n",
    "}\n",
    "\n",
    "# create LFPy.Cell instance\n",
    "cell = LFPy.Cell(**cellParameters)\n",
    "cell.set_rotation(x=4.98919, y=-4.33261, z=0.)\n",
    "\n",
    "print(f'total number of segments: {cell.totnsegs}')\n",
    "\n",
    "# parameters for line source potential\n",
    "el_params = dict(\n",
    "    x = np.linspace(0, 1000, 1001),\n",
    "    y = np.zeros(1001),\n",
    "    z = np.zeros(1001),\n",
    "    sigma = 0.3\n",
    ")\n",
    "\n",
    "cell.simulate(rec_imem=True)\n",
    "\n",
    "# create line-source potential predictor\n",
    "lsp = lfpykit.LineSourcePotential(cell, **el_params)"
   ]
  },
  {
   "cell_type": "code",
   "execution_count": 4,
   "id": "79185fd5-9485-425c-8727-146c793126d9",
   "metadata": {},
   "outputs": [
    {
     "name": "stdout",
     "output_type": "stream",
     "text": [
      "         300548 function calls in 6.441 seconds\n",
      "\n",
      "   Ordered by: cumulative time\n",
      "   List reduced from 31 to 20 due to restriction <20>\n",
      "\n",
      "   ncalls  tottime  percall  cumtime  percall filename:lineno(function)\n",
      "        1    0.000    0.000    6.441    6.441 {built-in method builtins.exec}\n",
      "        1    0.010    0.010    6.440    6.440 <string>:1(<module>)\n",
      "      100    0.219    0.002    6.431    0.064 models.py:437(get_transformation_matrix)\n",
      "   100100    0.277    0.000    6.211    0.000 lfpcalc.py:346(calc_lfp_linesource)\n",
      "   100100    5.921    0.000    5.934    0.000 lfpcalc.py:377(_calc_lfp_linesource)\n",
      "   100100    0.013    0.000    0.013    0.000 serialize.py:29(_numba_unpickle)\n",
      "        1    0.000    0.000    0.000    0.000 {built-in method io.open}\n",
      "        1    0.000    0.000    0.000    0.000 {built-in method builtins.print}\n",
      "        2    0.000    0.000    0.000    0.000 iostream.py:502(write)\n",
      "        3    0.000    0.000    0.000    0.000 iostream.py:208(schedule)\n",
      "        3    0.000    0.000    0.000    0.000 socket.py:480(send)\n",
      "      100    0.000    0.000    0.000    0.000 {built-in method numpy.empty}\n",
      "        1    0.000    0.000    0.000    0.000 {method 'read' of '_io.TextIOWrapper' objects}\n",
      "        3    0.000    0.000    0.000    0.000 threading.py:1126(is_alive)\n",
      "        2    0.000    0.000    0.000    0.000 iostream.py:439(_schedule_flush)\n",
      "        1    0.000    0.000    0.000    0.000 _bootlocale.py:33(getpreferredencoding)\n",
      "        3    0.000    0.000    0.000    0.000 threading.py:1059(_wait_for_tstate_lock)\n",
      "        1    0.000    0.000    0.000    0.000 codecs.py:319(decode)\n",
      "        2    0.000    0.000    0.000    0.000 iostream.py:420(_is_master_process)\n",
      "        1    0.000    0.000    0.000    0.000 codecs.py:309(__init__)\n",
      " \n",
      "*** Profile printout saved to text file 'prun0'.\n"
     ]
    }
   ],
   "source": [
    "%%prun -s cumulative -q -l 20 -T prun0\n",
    "for i in range(100):\n",
    "    lsp.get_transformation_matrix()\n",
    "print(open('prun0', 'r').read())"
   ]
  },
  {
   "cell_type": "code",
   "execution_count": 5,
   "id": "9c7909f1-c3a6-4f7b-bb6f-0053feb30f6a",
   "metadata": {},
   "outputs": [
    {
     "data": {
      "text/plain": [
       "(1001, 3078)"
      ]
     },
     "execution_count": 5,
     "metadata": {},
     "output_type": "execute_result"
    }
   ],
   "source": [
    "M = lsp.get_transformation_matrix()\n",
    "M.shape"
   ]
  },
  {
   "cell_type": "code",
   "execution_count": 6,
   "id": "eb558075-c0f7-4c6c-ab5f-a92719696121",
   "metadata": {},
   "outputs": [
    {
     "data": {
      "text/plain": [
       "(3078, 1601)"
      ]
     },
     "execution_count": 6,
     "metadata": {},
     "output_type": "execute_result"
    }
   ],
   "source": [
    "cell.imem.shape"
   ]
  },
  {
   "cell_type": "code",
   "execution_count": null,
   "id": "56fe8799-6f09-423e-9f5a-1d7a5d5a3d79",
   "metadata": {},
   "outputs": [],
   "source": []
  }
 ],
 "metadata": {
  "kernelspec": {
   "display_name": "Python 3 (ipykernel)",
   "language": "python",
   "name": "python3"
  },
  "language_info": {
   "codemirror_mode": {
    "name": "ipython",
    "version": 3
   },
   "file_extension": ".py",
   "mimetype": "text/x-python",
   "name": "python",
   "nbconvert_exporter": "python",
   "pygments_lexer": "ipython3",
   "version": "3.9.10"
  }
 },
 "nbformat": 4,
 "nbformat_minor": 5
}
