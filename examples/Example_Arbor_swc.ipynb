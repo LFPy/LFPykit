{
 "cells": [
  {
   "cell_type": "markdown",
   "metadata": {},
   "source": [
    "# Example: Arbor plus .swc morphology file\n",
    "\n",
    "Example utilizing the **`LFPykit`** module for predictions of extracellular potentials using \n",
    "the line source approximation with a passive neuron model set up in Arbor (https://arbor.readthedocs.io, https://github.com/arbor-sim/arbor). \n",
    "\n",
    "The neuron receives sinusoid synaptic current input in one arbitrary chosen control volume (CV). \n",
    "Its morphology is defined in the file `single_cell.swc`\n"
   ]
  },
  {
   "cell_type": "code",
   "execution_count": 1,
   "metadata": {},
   "outputs": [],
   "source": [
    "%matplotlib inline"
   ]
  },
  {
   "cell_type": "code",
   "execution_count": 2,
   "metadata": {},
   "outputs": [],
   "source": [
    "## arbor may be installed using pip:\n",
    "#!pip install git+https://github.com/arbor-sim/arbor.git"
   ]
  },
  {
   "cell_type": "code",
   "execution_count": 3,
   "metadata": {},
   "outputs": [],
   "source": [
    "## if running on mybinder or similar, uncomment and run the following to install LFPykit. \n",
    "## Then restart the kernel.\n",
    "#!pip install .."
   ]
  },
  {
   "cell_type": "code",
   "execution_count": 4,
   "metadata": {},
   "outputs": [],
   "source": [
    "# import modules\n",
    "import numpy as np\n",
    "import arbor\n",
    "import lfpykit\n",
    "import matplotlib.pyplot as plt\n",
    "from matplotlib.gridspec import GridSpec\n",
    "from matplotlib.collections import PolyCollection\n",
    "import pandas as pd"
   ]
  },
  {
   "cell_type": "code",
   "execution_count": 5,
   "metadata": {},
   "outputs": [],
   "source": [
    "class Recipe (arbor.recipe):\n",
    "    def __init__(self, cell):\n",
    "        super().__init__()\n",
    "     \n",
    "        self.the_cell = cell\n",
    "\n",
    "        self.vprobe_id = (0, 0)\n",
    "        self.iprobe_id = (0, 1)\n",
    "        self.cprobe_id = (0, 2)\n",
    "\n",
    "        self.the_props = arbor.neuron_cable_properties()\n",
    "        self.the_cat = arbor.default_catalogue()\n",
    "        self.the_props.register(self.the_cat)\n",
    "       \n",
    "    def num_cells(self):\n",
    "        return 1\n",
    "\n",
    "    def num_sources(self, gid):\n",
    "        return 0\n",
    "\n",
    "    def cell_kind(self, gid):\n",
    "        return arbor.cell_kind.cable\n",
    "\n",
    "    def cell_description(self, gid):\n",
    "        return self.the_cell\n",
    "\n",
    "    def global_properties(self, kind):\n",
    "        return self.the_props\n",
    "    \n",
    "    def probes(self, gid):\n",
    "        return [\n",
    "            arbor.cable_probe_membrane_voltage_cell(),\n",
    "            arbor.cable_probe_total_current_cell(),\n",
    "            arbor.cable_probe_stimulus_current_cell()\n",
    "        ]\n",
    "    \n",
    "# define morphology (needed for arbor.place_pwlin)\n",
    "morphology = arbor.load_swc_arbor('single_cell.swc')\n",
    "\n",
    "# number CVs per branch\n",
    "nseg = 3\n",
    "\n",
    "# Label dictionary\n",
    "defs = {}\n",
    "labels = arbor.label_dict(defs)\n",
    "\n",
    "# decor\n",
    "decor = arbor.decor()\n",
    "\n",
    "# set initial voltage, temperature, axial resistivity, membrane capacitance\n",
    "decor.set_property(\n",
    "    Vm=-65,  # Initial membrane voltage [mV]\n",
    "    tempK=300,  # Temperature [Kelvin]\n",
    "    rL=10000,  # Axial resistivity [Ω cm]\n",
    "    cm=0.01,  # Membrane capacitance [F/m**2]\n",
    ")\n",
    "\n",
    "# set passive mechanism all over\n",
    "pas = arbor.mechanism('pas/e=-65')  # passive mech w. leak reversal potential (mV)\n",
    "pas.set('g', 0.0001)  # leak conductivity (S/cm2)\n",
    "decor.paint('(all)', pas)\n",
    "\n",
    "# set sinusoid input current at mid point of terminating CV (segment)\n",
    "iclamp = arbor.iclamp(5,  # stimulation onset (ms)\n",
    "                      1E8,  # stimulation duration (ms)\n",
    "                      -0.001,  # stimulation amplitude (nA)\n",
    "                      frequency=0.1,  # stimulation frequency (kHz)\n",
    "                      phase=0)  # stimulation phase)\n",
    "decor.place('(location 4 0.333)', iclamp)\n",
    "\n",
    "# number of CVs per branch\n",
    "policy = arbor.cv_policy_fixed_per_branch(nseg)\n",
    "decor.discretization(policy)\n",
    "\n",
    "# create cell and set properties\n",
    "cell = arbor.cable_cell(morphology, labels, decor)\n",
    "\n",
    "# create single cell model\n",
    "model = arbor.single_cell_model(cell)\n",
    "\n",
    "# instantiate recipe with cell\n",
    "recipe = Recipe(cell)\n",
    "\n",
    "# instantiate simulation\n",
    "context = arbor.context()\n",
    "domains = arbor.partition_load_balance(recipe, context)\n",
    "sim = arbor.simulation(recipe, domains, context)\n",
    "\n",
    "# set up sampling on probes\n",
    "schedule = arbor.regular_schedule(0.1)\n",
    "v_handle = sim.sample(recipe.vprobe_id, schedule, arbor.sampling_policy.exact)\n",
    "i_handle = sim.sample(recipe.iprobe_id, schedule, arbor.sampling_policy.exact)\n",
    "c_handle = sim.sample(recipe.cprobe_id, schedule, arbor.sampling_policy.exact)\n",
    "\n",
    "# run simulation for 500 ms of simulated activity and collect results.\n",
    "sim.run(tfinal=500)\n",
    "\n",
    "# extract time, V_m and I_m for each compartment\n",
    "V_m_samples, V_m_meta = sim.samples(v_handle)[0]\n",
    "I_m_samples, I_m_meta = sim.samples(i_handle)[0]\n",
    "I_c_samples, I_c_meta = sim.samples(c_handle)[0]"
   ]
  },
  {
   "cell_type": "code",
   "execution_count": 6,
   "metadata": {},
   "outputs": [],
   "source": [
    "# drop recorded V_m values and corresponding meta data of \n",
    "# zero-sized CVs (branch-point potentials)\n",
    "inds = np.array([m.dist!=m.prox for m in V_m_meta])\n",
    "V_m_samples = V_m_samples[:, np.r_[True, inds]]\n",
    "V_m_meta = np.array(V_m_meta)[inds].tolist()"
   ]
  },
  {
   "cell_type": "code",
   "execution_count": 7,
   "metadata": {},
   "outputs": [],
   "source": [
    "# note: the cables comprising the metadata for each probe\n",
    "# should be the same, as well as the reported sample times.\n",
    "assert V_m_meta==I_m_meta\n",
    "assert (V_m_samples[:, 0]==I_m_samples[:, 0]).all()\n",
    "\n",
    "# prep recorded data for plotting\n",
    "time = V_m_samples[:, 0]\n",
    "V_m = V_m_samples[:, 1:].T\n",
    "I_m = I_m_samples[:, 1:].T\n",
    "I_c = I_c_samples[:, 1:].T"
   ]
  },
  {
   "cell_type": "code",
   "execution_count": 8,
   "metadata": {},
   "outputs": [],
   "source": [
    "# gather geometry of CVs and segments belonging to each CV\n",
    "p = arbor.place_pwlin(morphology)\n",
    "x, y, z, d = [np.array([], dtype=float).reshape((0, 2))] * 4\n",
    "CV_ind = np.array([], dtype=int)  # tracks which CV owns segment\n",
    "cmap = plt.cm.get_cmap('tab20', len(I_m_meta))\n",
    "color = np.array([], dtype=float).reshape((0, 4))  # CV color\n",
    "for i, m in enumerate(I_m_meta):\n",
    "    segs = p.segments([m])\n",
    "    for j, seg in enumerate(segs):\n",
    "        x = np.row_stack([x, [seg.prox.x, seg.dist.x]])\n",
    "        y = np.row_stack([y, [seg.prox.y, seg.dist.y]])\n",
    "        z = np.row_stack([z, [seg.prox.z, seg.dist.z]])\n",
    "        d = np.row_stack([d, [seg.prox.radius * 2, seg.dist.radius * 2]])\n",
    "        CV_ind = np.r_[CV_ind, i]\n",
    "        color = np.row_stack([color, cmap(i)])"
   ]
  },
  {
   "cell_type": "code",
   "execution_count": 9,
   "metadata": {},
   "outputs": [],
   "source": [
    "# length of each segment\n",
    "L = np.linalg.norm(np.c_[np.diff(x, axis=-1), np.diff(y, axis=-1), np.diff(z, axis=-1)], axis=-1)\n",
    "\n",
    "# compute areas such that ratios of membrane currents per segment per CV can be estimated.\n",
    "A = np.pi * d.sum(axis=-1) * np.sqrt(np.diff(d, axis=-1).ravel()**2 + L**2)"
   ]
  },
  {
   "cell_type": "code",
   "execution_count": 10,
   "metadata": {},
   "outputs": [],
   "source": [
    "def create_polygon(x, y, d):\n",
    "    \"\"\"create a outline for each segment defined by 1D arrays `x`, `y`, `d`\n",
    "    in x,y-plane\n",
    "    \n",
    "    Parameters\n",
    "    ----------\n",
    "    x: \n",
    "    y: \n",
    "    d: \n",
    "    \n",
    "    Returns\n",
    "    -------\n",
    "    x, y\n",
    "    \"\"\"\n",
    "\n",
    "    # calculate angles\n",
    "    dx = abs(np.diff(x))\n",
    "    dy = np.diff(y)\n",
    "    theta = np.arctan2(dy, dx)\n",
    "\n",
    "    x = np.r_[x, x[::-1]]\n",
    "    y = np.r_[y, y[::-1]]\n",
    "\n",
    "    theta = np.r_[theta, theta[::-1]]\n",
    "    d = np.r_[d, d[::-1]]\n",
    "\n",
    "    # 1st corner:\n",
    "    x[0] -= 0.5 * d[0] * np.sin(theta[0])\n",
    "    y[0] += 0.5 * d[0] * np.cos(theta[0])\n",
    "\n",
    "    # pt3d points between start and end of section, first side\n",
    "    x[1:dx.size] -= 0.25 * d[1:dx.size] * (\n",
    "        np.sin(theta[:dx.size - 1]) + np.sin(theta[1:dx.size]))\n",
    "    y[1:dy.size] += 0.25 * d[1:dy.size] * (\n",
    "        np.cos(theta[:dy.size - 1]) + np.cos(theta[1:dx.size]))\n",
    "\n",
    "    # end of section, first side\n",
    "    x[dx.size] -= 0.5 * d[dx.size] * np.sin(theta[dx.size])\n",
    "    y[dy.size] += 0.5 * d[dy.size] * np.cos(theta[dy.size])\n",
    "\n",
    "    # other side\n",
    "    # end of section, second side\n",
    "    x[dx.size + 1] += 0.5 * d[dx.size + 1] * np.sin(theta[dx.size])\n",
    "    y[dy.size + 1] -= 0.5 * d[dy.size + 1] * np.cos(theta[dy.size])\n",
    "\n",
    "    # pt3d points between start and end of section, second side\n",
    "    x[::-1][1:dx.size] += 0.25 * d[::-1][1:dx.size] * (\n",
    "        np.sin(theta[::-1][:dx.size - 1]) + np.sin(theta[::-1][1:dx.size]))\n",
    "    y[::-1][1:dy.size] -= 0.25 * d[::-1][1:dy.size] * (\n",
    "        np.cos(theta[::-1][:dy.size - 1]) + np.cos(theta[::-1][1:dx.size]))\n",
    "\n",
    "    # last corner:\n",
    "    x[-1] += 0.5 * d[-1] * np.sin(theta[-1])\n",
    "    y[-1] -= 0.5 * d[-1] * np.cos(theta[-1])\n",
    "    \n",
    "    return list(zip(x, y))"
   ]
  },
  {
   "cell_type": "code",
   "execution_count": 11,
   "metadata": {},
   "outputs": [],
   "source": [
    "def colorbar(fig, ax, im,\n",
    "             width=0.01,\n",
    "             height=1.0,\n",
    "             hoffset=0.01,\n",
    "             voffset=0.0,\n",
    "             orientation='vertical'):\n",
    "    '''\n",
    "    draw colorbar without resizing the axes object to make room\n",
    "    '''\n",
    "    rect = np.array(ax.get_position().bounds)\n",
    "    rect = np.array(ax.get_position().bounds)\n",
    "    caxrect = [0] * 4\n",
    "    caxrect[0] = rect[0] + rect[2] + hoffset * rect[2]\n",
    "    caxrect[1] = rect[1] + voffset * rect[3]\n",
    "    caxrect[2] = rect[2] * width\n",
    "    caxrect[3] = rect[3] * height\n",
    "    cax = fig.add_axes(caxrect)\n",
    "    cb = fig.colorbar(im, cax=cax, orientation=orientation)\n",
    "    return cb"
   ]
  },
  {
   "cell_type": "code",
   "execution_count": 12,
   "metadata": {},
   "outputs": [
    {
     "data": {
      "text/plain": [
       "(-76.67346928296355, 66.70703218068505)"
      ]
     },
     "execution_count": 12,
     "metadata": {},
     "output_type": "execute_result"
    },
    {
     "data": {
      "image/png": "[encoded data removed]",
      "text/plain": [
       "<Figure size 1152x432 with 1 Axes>"
      ]
     },
     "metadata": {
      "needs_background": "light"
     },
     "output_type": "display_data"
    }
   ],
   "source": [
    "# sanity check, outline segments with colors denoting CV index\n",
    "fig, ax = plt.subplots(1, 1, figsize=(16, 6))\n",
    "zips = []\n",
    "for x_, y_, d_ in zip(x, y, d):\n",
    "    zips.append(create_polygon(x_, y_, d_))\n",
    "polycol = PolyCollection(zips,\n",
    "                         edgecolors='gray',\n",
    "                         facecolors=color)\n",
    "ax.add_collection(polycol)\n",
    "\n",
    "# add outline of each CVs\n",
    "zips = []\n",
    "for i in range(I_m.shape[0]):\n",
    "    inds = CV_ind == i\n",
    "    zips.append(create_polygon(x[inds,].flatten(), y[inds,].flatten(), d[inds,].flatten()))\n",
    "polycol = PolyCollection(zips,\n",
    "                         edgecolors=[cmap(i) for i in range(I_m.shape[0])],\n",
    "                         facecolors='none',\n",
    "                         linewidths=2\n",
    "                        )    \n",
    "ax.add_collection(polycol)\n",
    "axis = ax.axis('equal')\n",
    "ax.set_xlim(axis[:2])\n",
    "ax.set_ylim(axis[2:])\n",
    "# ax.axis(axis)"
   ]
  },
  {
   "cell_type": "code",
   "execution_count": 13,
   "metadata": {},
   "outputs": [],
   "source": [
    "###############################################################################\n",
    "# compute extracellular potential using pt3d information\n",
    "###############################################################################\n",
    "# Mock up 2nd GeometryCell object which has the (n_pt3d - 1) number of virtual \n",
    "# segments but Section.nseg number of segments, \n",
    "# assuming: (n_pt3d - 1) % nseg == 0\n",
    "cell_geometry = lfpykit.CellGeometry(\n",
    "    x=x,\n",
    "    y=y,\n",
    "    z=z,\n",
    "    d=d\n",
    ")\n",
    "\n",
    "# membrane voltages, transmemrbane current and corresponding times\n",
    "cell_geometry.V_m = V_m  # mV\n",
    "cell_geometry.I_m = I_m + I_c  # nA, sum stimulation and transmembrane current to mimic sinusoid synapse\n",
    "cell_geometry.time = time  # ms\n",
    "\n",
    "# locations where extracellular potential is predicted \n",
    "dx = 1\n",
    "dz = 1\n",
    "axis = np.round(axis)\n",
    "X, Y = np.meshgrid(np.linspace(axis[0], axis[1], int(np.diff(axis[:2]) // dx) + 1), \n",
    "                   np.linspace(axis[2], axis[3], int(np.diff(axis[2:]) // dz) + 1))\n",
    "Z = np.zeros_like(X)\n",
    "\n",
    "# LineSourcePotential object, get mapping for all segments per CV\n",
    "lsp = lfpykit.LineSourcePotential(cell=cell_geometry, \n",
    "                                  x=X.flatten(), \n",
    "                                  y=Y.flatten(), \n",
    "                                  z=Z.flatten())\n",
    "M_pt3d = lsp.get_transformation_matrix()\n",
    "\n",
    "# Define response matrix from M with columns weighted by area of each frusta\n",
    "M = np.zeros((lsp.x.size, I_m.shape[0]))\n",
    "for i in range(I_m.shape[0]):\n",
    "    inds = CV_ind == i\n",
    "    M[:, i] = M_pt3d[:, inds] @ (A[inds] / A[inds].sum())\n",
    "\n",
    "# Extracellular potential using segment information at last time step \n",
    "# in x,y-plane coordinates   \n",
    "V_e = M @ cell_geometry.I_m[:, -1]"
   ]
  },
  {
   "cell_type": "code",
   "execution_count": 14,
   "metadata": {},
   "outputs": [
    {
     "data": {
      "text/plain": [
       "Text(0, 0.5, '$y$ ($\\\\mu$m)')"
      ]
     },
     "execution_count": 14,
     "metadata": {},
     "output_type": "execute_result"
    },
    {
     "data": {
      "image/png": "[encoded data removed]",
      "text/plain": [
       "<Figure size 1152x432 with 2 Axes>"
      ]
     },
     "metadata": {
      "needs_background": "light"
     },
     "output_type": "display_data"
    }
   ],
   "source": [
    "fig, ax = plt.subplots(1, 1, figsize=(16, 6))\n",
    "\n",
    "\n",
    "# plot pcolormesh plot of V_e\n",
    "im_V_e = ax.pcolormesh(X, Y, V_e.reshape(X.shape), \n",
    "                        shading='auto', cmap='RdBu', \n",
    "                        vmin=-abs(V_e).max() / 2, vmax=abs(V_e).max() / 2)\n",
    "\n",
    "cb = colorbar(fig, ax, im_V_e)\n",
    "cb.set_label('$V_e$ (mV)')\n",
    "\n",
    "# outline of segments\n",
    "zips = []\n",
    "for x_, y_, d_ in zip(x, y, d):\n",
    "    zips.append(create_polygon(x_, y_, d_))\n",
    "polycol = PolyCollection(zips,\n",
    "                         edgecolors='gray',\n",
    "                         facecolors='none')\n",
    "ax.add_collection(polycol)\n",
    "\n",
    "# add outline of each CV\n",
    "zips = []\n",
    "for i in range(I_m.shape[0]):\n",
    "    inds = CV_ind == i\n",
    "    zips.append(create_polygon(x[inds,].flatten(), y[inds,].flatten(), d[inds,].flatten()))\n",
    "polycol = PolyCollection(zips,\n",
    "                         edgecolors=[cmap(i) for i in range(I_m.shape[0])],\n",
    "                         facecolors='none',\n",
    "                         linewidths=2)    \n",
    "ax.add_collection(polycol)\n",
    "\n",
    "ax.set_xlim(X.min(), X.max())\n",
    "ax.set_ylim(Y.min(), Y.max())\n",
    "ax.set_xlabel(r'$x$ ($\\mu$m)')\n",
    "ax.set_ylabel(r'$y$ ($\\mu$m)')"
   ]
  },
  {
   "cell_type": "code",
   "execution_count": null,
   "metadata": {},
   "outputs": [],
   "source": []
  }
 ],
 "metadata": {
  "kernelspec": {
   "display_name": "Python 3",
   "language": "python",
   "name": "python3"
  },
  "language_info": {
   "codemirror_mode": {
    "name": "ipython",
    "version": 3
   },
   "file_extension": ".py",
   "mimetype": "text/x-python",
   "name": "python",
   "nbconvert_exporter": "python",
   "pygments_lexer": "ipython3",
   "version": "3.9.2"
  }
 },
 "nbformat": 4,
 "nbformat_minor": 4
}
