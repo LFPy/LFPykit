{
 "cells": [
  {
   "cell_type": "code",
   "execution_count": 1,
   "id": "638c82eb-3757-4fe9-b1e8-0da9b736fa2d",
   "metadata": {},
   "outputs": [],
   "source": [
    "%matplotlib inline"
   ]
  },
  {
   "cell_type": "code",
   "execution_count": 2,
   "id": "6ac6cc3c-e07c-47da-a97f-a087621390ef",
   "metadata": {},
   "outputs": [],
   "source": [
    "import LFPy\n",
    "import lfpykit\n",
    "import numpy as np\n",
    "import matplotlib.pyplot as plt"
   ]
  },
  {
   "cell_type": "code",
   "execution_count": 3,
   "id": "15b63f94-ebcd-42bf-8e80-9761def92965",
   "metadata": {},
   "outputs": [
    {
     "name": "stdout",
     "output_type": "stream",
     "text": [
      "total number of segments: 3078\n"
     ]
    }
   ],
   "source": [
    "# LFPy.Cell parameters\n",
    "cellParameters = {\n",
    "    'morphology': 'L5_Mainen96_LFPy.hoc',  # morphology file\n",
    "    'v_init': -65,                         # initial voltage\n",
    "    'cm': 1.0,                             # membrane capacitance\n",
    "    'Ra': 150,                             # axial resistivity\n",
    "    'passive': True,                       # insert passive channels\n",
    "    'passive_parameters': {\"g_pas\": 1. / 3E4,\n",
    "                           \"e_pas\": -65},  # passive params\n",
    "    'dt': 2**-4,                           # simulation time res\n",
    "    'nsegs_method': 'lambda_f',    # discretization rule\n",
    "    'lambda_f': 1000               # frequency (Hz)\n",
    "}\n",
    "\n",
    "# create LFPy.Cell instance\n",
    "cell = LFPy.Cell(**cellParameters)\n",
    "cell.set_rotation(x=4.98919, y=-4.33261, z=0.)\n",
    "\n",
    "print(f'total number of segments: {cell.totnsegs}')\n",
    "\n",
    "# parameters for line source potential\n",
    "el_params = dict(\n",
    "    x = np.linspace(0, 1000, 1001),\n",
    "    y = np.zeros(1001),\n",
    "    z = np.zeros(1001),\n",
    "    sigma = 0.3\n",
    ")\n",
    "\n",
    "cell.simulate(rec_imem=True)"
   ]
  },
  {
   "cell_type": "code",
   "execution_count": 4,
   "id": "01dfa7f3-0588-4e79-ad39-5616d04b4291",
   "metadata": {},
   "outputs": [],
   "source": [
    "# create line-source potential predictor\n",
    "lsp = lfpykit.LineSourcePotential(cell, **el_params)"
   ]
  },
  {
   "cell_type": "code",
   "execution_count": 5,
   "id": "79185fd5-9485-425c-8727-146c793126d9",
   "metadata": {},
   "outputs": [
    {
     "name": "stdout",
     "output_type": "stream",
     "text": [
      " \n",
      "*** Profile printout saved to text file 'prun0'.\n"
     ]
    }
   ],
   "source": [
    "%%prun -s cumulative -q -l 20 -T prun0\n",
    "for i in range(100):\n",
    "    lsp.get_transformation_matrix()"
   ]
  },
  {
   "cell_type": "code",
   "execution_count": 6,
   "id": "9c7909f1-c3a6-4f7b-bb6f-0053feb30f6a",
   "metadata": {},
   "outputs": [
    {
     "name": "stdout",
     "output_type": "stream",
     "text": [
      "         2102403 function calls in 11.128 seconds\n",
      "\n",
      "   Ordered by: cumulative time\n",
      "\n",
      "   ncalls  tottime  percall  cumtime  percall filename:lineno(function)\n",
      "        1    0.000    0.000   11.128   11.128 {built-in method builtins.exec}\n",
      "        1    0.011    0.011   11.128   11.128 <string>:1(<module>)\n",
      "      100    0.000    0.000   11.117    0.111 models.py:440(get_transformation_matrix)\n",
      "      100    0.237    0.002   11.116    0.111 models.py:462(_get_transform)\n",
      "   100100    0.187    0.000   10.880    0.000 lfpcalc.py:355(calc_lfp_linesource)\n",
      "   100100    3.490    0.000   10.692    0.000 lfpcalc.py:402(_calc_lfp_linesource)\n",
      "   100100    1.542    0.000    1.542    0.000 lfpcalc.py:560(_h_calc)\n",
      "   100100    1.476    0.000    1.476    0.000 lfpcalc.py:520(_linesource_calc_case1)\n",
      "   100100    1.294    0.000    1.294    0.000 lfpcalc.py:579(_r2_calc)\n",
      "   100100    1.091    0.000    1.091    0.000 lfpcalc.py:547(_deltaS_calc)\n",
      "   400400    0.084    0.000    0.813    0.000 <__array_function__ internals>:2(where)\n",
      "   400400    0.710    0.000    0.710    0.000 {built-in method numpy.core._multiarray_umath.implement_array_function}\n",
      "   100100    0.639    0.000    0.639    0.000 lfpcalc.py:538(_linesource_calc_case3)\n",
      "   100100    0.276    0.000    0.276    0.000 lfpcalc.py:529(_linesource_calc_case2)\n",
      "   100100    0.072    0.000    0.072    0.000 {built-in method numpy.zeros}\n",
      "   400400    0.019    0.000    0.019    0.000 multiarray.py:341(where)\n",
      "      100    0.000    0.000    0.000    0.000 {built-in method numpy.empty}\n",
      "        1    0.000    0.000    0.000    0.000 {method 'disable' of '_lsprof.Profiler' objects}\n"
     ]
    }
   ],
   "source": [
    "print(open('prun0', 'r').read())"
   ]
  },
  {
   "cell_type": "code",
   "execution_count": 7,
   "id": "4f4fe170-41ed-4e93-be55-7e36cda0ff00",
   "metadata": {},
   "outputs": [],
   "source": [
    "class CyLSP(lfpykit.LineSourcePotential):\n",
    "    '''test class using linesource extension'''\n",
    "    def __init__(self, cell, x, y, z, sigma):\n",
    "        super().__init__(cell, x, y, z, sigma)\n",
    "\n",
    "    def get_transformation_matrix(self):\n",
    "        '''\n",
    "        Get linear response matrix\n",
    "\n",
    "        Returns\n",
    "        -------\n",
    "        response_matrix: ndarray\n",
    "            shape (n_coords, n_seg) ndarray\n",
    "\n",
    "        Raises\n",
    "        ------\n",
    "        AttributeError\n",
    "            if ``cell is None``\n",
    "        '''\n",
    "        if self.cell is None:\n",
    "            raise AttributeError(\n",
    "                '{}.cell is None'.format(self.__class__.__name__))\n",
    "        if self.cell.d.ndim == 2:\n",
    "            r_limit = self.cell.d.mean(axis=-1) / 2\n",
    "        else:\n",
    "            r_limit = self.cell.d / 2\n",
    "\n",
    "        return lfpykit.linesource._get_transform(cell_x=self.cell.x,\n",
    "                              cell_y=self.cell.y,\n",
    "                              cell_z=self.cell.z,\n",
    "                              x=self.x,\n",
    "                              y=self.y,\n",
    "                              z=self.z,\n",
    "                              sigma=self.sigma,\n",
    "                              r_limit=r_limit)"
   ]
  },
  {
   "cell_type": "code",
   "execution_count": 8,
   "id": "df3f06aa-0439-40cf-8dff-733a4dd7ebbe",
   "metadata": {},
   "outputs": [],
   "source": [
    "# create line-source potential predictor\n",
    "cylsp = CyLSP(cell, **el_params)"
   ]
  },
  {
   "cell_type": "code",
   "execution_count": 9,
   "id": "3ec04f63-eb0c-4cfd-bfdb-bd3e443d6a38",
   "metadata": {},
   "outputs": [
    {
     "name": "stdout",
     "output_type": "stream",
     "text": [
      " \n",
      "*** Profile printout saved to text file 'prun2'.\n"
     ]
    }
   ],
   "source": [
    "%%prun -s cumulative -q -l 20 -T prun2\n",
    "for i in range(100):\n",
    "    cylsp.get_transformation_matrix()"
   ]
  },
  {
   "cell_type": "code",
   "execution_count": 10,
   "id": "cae29d39-4603-430f-b79e-67995701f378",
   "metadata": {},
   "outputs": [
    {
     "name": "stdout",
     "output_type": "stream",
     "text": [
      "         1201403 function calls in 11.052 seconds\n",
      "\n",
      "   Ordered by: cumulative time\n",
      "\n",
      "   ncalls  tottime  percall  cumtime  percall filename:lineno(function)\n",
      "        1    0.000    0.000   11.052   11.052 {built-in method builtins.exec}\n",
      "        1    0.011    0.011   11.052   11.052 <string>:1(<module>)\n",
      "      100    0.000    0.000   11.040    0.110 1624091361.py:6(get_transformation_matrix)\n",
      "      100   10.238    0.102   11.040    0.110 {built-in method lfpykit.linesource._get_transform}\n",
      "   400400    0.074    0.000    0.802    0.000 <__array_function__ internals>:2(where)\n",
      "   400400    0.713    0.000    0.713    0.000 {built-in method numpy.core._multiarray_umath.implement_array_function}\n",
      "   400400    0.016    0.000    0.016    0.000 multiarray.py:341(where)\n",
      "        1    0.000    0.000    0.000    0.000 {method 'disable' of '_lsprof.Profiler' objects}\n"
     ]
    }
   ],
   "source": [
    "print(open('prun2', 'r').read())"
   ]
  },
  {
   "cell_type": "code",
   "execution_count": 11,
   "id": "d46cde56-fb11-43c0-8fb5-48fd1a2bd161",
   "metadata": {},
   "outputs": [
    {
     "data": {
      "text/plain": [
       "True"
      ]
     },
     "execution_count": 11,
     "metadata": {},
     "output_type": "execute_result"
    }
   ],
   "source": [
    "np.all(cylsp.get_transformation_matrix() == lsp.get_transformation_matrix())"
   ]
  },
  {
   "cell_type": "code",
   "execution_count": null,
   "id": "24659b16-0f2e-4a34-979a-abbbb88eb536",
   "metadata": {},
   "outputs": [],
   "source": []
  },
  {
   "cell_type": "code",
   "execution_count": 12,
   "id": "602b06df-5e90-441d-951e-0f2272fdeba4",
   "metadata": {},
   "outputs": [],
   "source": [
    "# create point-source potential predictor\n",
    "psp = lfpykit.PointSourcePotential(cell, **el_params)"
   ]
  },
  {
   "cell_type": "code",
   "execution_count": 13,
   "id": "eb558075-c0f7-4c6c-ab5f-a92719696121",
   "metadata": {},
   "outputs": [
    {
     "name": "stdout",
     "output_type": "stream",
     "text": [
      " \n",
      "*** Profile printout saved to text file 'prun1'.\n"
     ]
    }
   ],
   "source": [
    "%%prun -s cumulative -q -l 20 -T prun1\n",
    "for i in range(100):\n",
    "    psp.get_transformation_matrix()"
   ]
  },
  {
   "cell_type": "code",
   "execution_count": 14,
   "id": "ac647d47-7a0b-463d-8200-c1260c32fc14",
   "metadata": {},
   "outputs": [
    {
     "name": "stdout",
     "output_type": "stream",
     "text": [
      "         3203403 function calls in 8.445 seconds\n",
      "\n",
      "   Ordered by: cumulative time\n",
      "\n",
      "   ncalls  tottime  percall  cumtime  percall filename:lineno(function)\n",
      "        1    0.000    0.000    8.445    8.445 {built-in method builtins.exec}\n",
      "        1    0.011    0.011    8.445    8.445 <string>:1(<module>)\n",
      "      100    0.224    0.002    8.434    0.084 models.py:278(get_transformation_matrix)\n",
      "   100100    1.271    0.000    8.211    0.000 lfpcalc.py:597(calc_lfp_pointsource)\n",
      "   300300    0.072    0.000    6.606    0.000 {method 'mean' of 'numpy.ndarray' objects}\n",
      "   300300    0.803    0.000    6.535    0.000 _methods.py:162(_mean)\n",
      "   300300    5.459    0.000    5.459    0.000 {method 'reduce' of 'numpy.ufunc' objects}\n",
      "   100100    0.333    0.000    0.333    0.000 lfpcalc.py:680(_check_rlimit_point)\n",
      "   300300    0.193    0.000    0.227    0.000 _methods.py:66(_count_reduce_items)\n",
      "   600600    0.025    0.000    0.025    0.000 {built-in method builtins.isinstance}\n",
      "   600600    0.025    0.000    0.025    0.000 {built-in method builtins.issubclass}\n",
      "   300300    0.018    0.000    0.018    0.000 {built-in method numpy.core._multiarray_umath.normalize_axis_index}\n",
      "   300300    0.012    0.000    0.012    0.000 {built-in method numpy.asanyarray}\n",
      "      100    0.000    0.000    0.000    0.000 {built-in method numpy.empty}\n",
      "        1    0.000    0.000    0.000    0.000 {method 'disable' of '_lsprof.Profiler' objects}\n"
     ]
    }
   ],
   "source": [
    "print(open('prun1', 'r').read())"
   ]
  },
  {
   "cell_type": "code",
   "execution_count": null,
   "id": "df846526-8ccd-4909-8645-c57b5d924c94",
   "metadata": {},
   "outputs": [],
   "source": []
  }
 ],
 "metadata": {
  "kernelspec": {
   "display_name": "Python 3 (ipykernel)",
   "language": "python",
   "name": "python3"
  },
  "language_info": {
   "codemirror_mode": {
    "name": "ipython",
    "version": 3
   },
   "file_extension": ".py",
   "mimetype": "text/x-python",
   "name": "python",
   "nbconvert_exporter": "python",
   "pygments_lexer": "ipython3",
   "version": "3.9.10"
  }
 },
 "nbformat": 4,
 "nbformat_minor": 5
}
